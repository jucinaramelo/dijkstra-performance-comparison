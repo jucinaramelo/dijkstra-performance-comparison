{
 "cells": [
  {
   "cell_type": "markdown",
   "id": "63eaceb3",
   "metadata": {},
   "source": [
    "# Importações"
   ]
  },
  {
   "cell_type": "code",
   "execution_count": 4,
   "id": "d44c8ffb",
   "metadata": {},
   "outputs": [],
   "source": [
    "import networkx as nx\n",
    "import random\n",
    "import time\n",
    "import numpy as np\n",
    "import pandas as pd\n",
    "import matplotlib.pyplot as plt\n",
    "from codecarbon import EmissionsTracker\n",
    "import warnings\n",
    "import os\n",
    "import logging\n",
    "\n",
    "# Configurações\n",
    "plt.style.use('ggplot')\n",
    "# Suprimir logs de baixo nível do CodeCarbon e Matplotlib\n",
    "logging.getLogger('codecarbon').setLevel(logging.CRITICAL)\n",
    "logging.getLogger('matplotlib').setLevel(logging.ERROR)\n",
    "warnings.filterwarnings('ignore', category=UserWarning)\n",
    "\n",
    "# Garantir que os diretórios de resultados existam\n",
    "os.makedirs('graficos', exist_ok=True)\n",
    "os.makedirs('tabelas', exist_ok=True)"
   ]
  },
  {
   "cell_type": "markdown",
   "id": "301d27fe",
   "metadata": {},
   "source": [
    "# Algoritmo Dijkstra Clássico (de dijsktra.ipynb)"
   ]
  },
  {
   "cell_type": "code",
   "execution_count": 5,
   "id": "871562e8",
   "metadata": {},
   "outputs": [],
   "source": [
    "# O(V^2 + E) time | O(V) space - where V is the number of vertices and E is the number of edges in the input graph\n",
    "def dijkstra_classic(start, edges):\n",
    "    \"\"\"\n",
    "    Implements Dijkstra's algorithm to find the shortest path from a starting node to all other nodes in a graph.\n",
    "\n",
    "    Args:\n",
    "        start (int): The starting node index.\n",
    "        edges (list of list): Adjacency list representing the graph. Each index corresponds to a vertex,\n",
    "                              and each entry is a list of pairs [destination, weight].\n",
    "\n",
    "    Returns:\n",
    "        list: A list of the shortest distances from the starting node to each node. If a node is not reachable,\n",
    "              the distance is -1.\n",
    "    \"\"\"\n",
    "    numberOfVertices = len(edges)\n",
    "\n",
    "    # Initialize the minimum distances for all vertices as infinity\n",
    "    # except the starting vertex which is set to 0.\n",
    "    minDistances = [float(\"inf\") for _ in range(numberOfVertices)]\n",
    "    minDistances[start] = 0\n",
    "\n",
    "    # Keep track of visited nodes to avoid reprocessing them.\n",
    "    visited = set()\n",
    "\n",
    "    # Continue processing nodes until all have been visited.\n",
    "    while len(visited) != numberOfVertices:\n",
    "        # Find the vertex with the smallest known distance that has not been visited.\n",
    "        vertex, currentMinDistance = getVertexWithMinDistance(minDistances, visited)\n",
    "\n",
    "        # If the smallest distance is infinity, all remaining vertices are unreachable.\n",
    "        if currentMinDistance == float(\"inf\"):\n",
    "            break\n",
    "\n",
    "        # Mark the current vertex as visited.\n",
    "        visited.add(vertex)\n",
    "\n",
    "        # Iterate through all the neighbors of the current vertex.\n",
    "        for edge in edges[vertex]:\n",
    "            destination, distanceToDestination = edge\n",
    "\n",
    "            # Skip the neighbor if it has already been visited.\n",
    "            if destination in visited:\n",
    "                continue\n",
    "\n",
    "            # Calculate the new potential path distance to the neighbor.\n",
    "            newPathDistance = currentMinDistance + distanceToDestination\n",
    "            currentDestinationDistance = minDistances[destination]\n",
    "\n",
    "            # Update the shortest distance to the neighbor if the new path is shorter.\n",
    "            if newPathDistance < currentDestinationDistance:\n",
    "                minDistances[destination] = newPathDistance\n",
    "\n",
    "    # Replace any remaining infinity distances with -1 to indicate unreachable nodes.\n",
    "    return list(map(lambda x: -1 if x == float(\"inf\") else x, minDistances))\n",
    "\n",
    "\n",
    "def getVertexWithMinDistance(distances, visited):\n",
    "    \"\"\"\n",
    "    Helper function to find the vertex with the smallest known distance that has not been visited.\n",
    "\n",
    "    Args:\n",
    "        distances (list): A list of the shortest known distances to each vertex.\n",
    "        visited (set): A set of vertices that have already been visited.\n",
    "\n",
    "    Returns:\n",
    "        tuple: The index of the vertex with the smallest distance and its distance value.\n",
    "    \"\"\"\n",
    "    currentMinDistance = float(\"inf\")\n",
    "    vertex = -1\n",
    "\n",
    "    # Iterate over all vertices to find the one with the smallest distance.\n",
    "    for vertexIdx, distance in enumerate(distances):\n",
    "        # Skip the vertex if it has already been visited.\n",
    "        if vertexIdx in visited:\n",
    "            continue\n",
    "\n",
    "        # Update the current minimum distance and vertex if a smaller distance is found.\n",
    "        if distance <= currentMinDistance:\n",
    "            vertex = vertexIdx\n",
    "            currentMinDistance = distance\n",
    "\n",
    "    return vertex, currentMinDistance"
   ]
  },
  {
   "cell_type": "markdown",
   "id": "ccf963ef",
   "metadata": {},
   "source": [
    "Gemini"
   ]
  },
  {
   "cell_type": "code",
   "execution_count": null,
   "id": "be6e0f85",
   "metadata": {},
   "outputs": [],
   "source": [
    "# O(V^2 + E) time | O(V) space\n",
    "def dijkstra_classic(start, edges):\n",
    "    \"\"\"\n",
    "    Implementação Clássica do Dijkstra (O(V^2)).\n",
    "    Baseado no arquivo 'dijsktra.ipynb'.\n",
    "    \"\"\"\n",
    "    numberOfVertices = len(edges)\n",
    "    minDistances = [float(\"inf\") for _ in range(numberOfVertices)]\n",
    "    minDistances[start] = 0\n",
    "    visited = set()\n",
    "\n",
    "    while len(visited) != numberOfVertices:\n",
    "        vertex, currentMinDistance = getVertexWithMinDistance_classic(minDistances, visited)\n",
    "\n",
    "        if currentMinDistance == float(\"inf\"):\n",
    "            break\n",
    "\n",
    "        visited.add(vertex)\n",
    "\n",
    "        for edge in edges[vertex]:\n",
    "            destination, distanceToDestination = edge\n",
    "\n",
    "            if destination in visited:\n",
    "                continue\n",
    "\n",
    "            newPathDistance = currentMinDistance + distanceToDestination\n",
    "            currentDestinationDistance = minDistances[destination]\n",
    "\n",
    "            if newPathDistance < currentDestinationDistance:\n",
    "                minDistances[destination] = newPathDistance\n",
    "\n",
    "    return list(map(lambda x: -1 if x == float(\"inf\") else x, minDistances))\n",
    "\n",
    "\n",
    "def getVertexWithMinDistance_classic(distances, visited):\n",
    "    \"\"\"\n",
    "    Função auxiliar para o Dijkstra Clássico.\n",
    "    Baseado no arquivo 'dijsktra.ipynb'.\n",
    "    \"\"\"\n",
    "    currentMinDistance = float(\"inf\")\n",
    "    vertex = -1\n",
    "\n",
    "    for vertexIdx, distance in enumerate(distances):\n",
    "        if vertexIdx in visited:\n",
    "            continue\n",
    "        if distance <= currentMinDistance:\n",
    "            vertex = vertexIdx\n",
    "            currentMinDistance = distance\n",
    "\n",
    "    return vertex, currentMinDistance"
   ]
  },
  {
   "cell_type": "markdown",
   "id": "2a7b6bdf",
   "metadata": {},
   "source": [
    "# Algoritmo Dijkstra com Min-Heap (de dijsktra_min_heap.ipynb)"
   ]
  },
  {
   "cell_type": "code",
   "execution_count": 6,
   "id": "6440530c",
   "metadata": {},
   "outputs": [],
   "source": [
    "class MinHeap:\n",
    "    \"\"\"\n",
    "    MinHeap class: Implements a MinHeap data structure to efficiently manage vertices and their distances\n",
    "    for algorithms like Dijkstra. This implementation keeps track of the position of each vertex using\n",
    "    a vertex map for constant-time lookups and updates.\n",
    "    \"\"\"\n",
    "    def __init__(self, array):\n",
    "        \"\"\"\n",
    "        Initializes the MinHeap with an input array of (vertex, distance) pairs.\n",
    "\n",
    "        Args:\n",
    "            array (list): List of tuples where each tuple is (vertex, distance).\n",
    "                          The distance is typically initialized to infinity except for the starting vertex.\n",
    "\n",
    "        Attributes:\n",
    "            vertexMap (dict): Maps each vertex to its position in the heap for quick access.\n",
    "            heap (list): List representing the binary heap as an array.\n",
    "        \"\"\"\n",
    "        # Create a vertex map: Maps vertices to their indices in the heap.\n",
    "        self.vertexMap = {idx: idx for idx in range(len(array))}\n",
    "\n",
    "        # Build the heap from the input array to satisfy the heap property.\n",
    "        self.heap = self.buildHeap(array)\n",
    "\n",
    "    def isEmpty(self):\n",
    "        \"\"\"\n",
    "        Checks if the heap is empty.\n",
    "\n",
    "        Returns:\n",
    "            bool: True if the heap is empty, False otherwise.\n",
    "        \"\"\"\n",
    "        return len(self.heap) == 0\n",
    "\n",
    "    def buildHeap(self, array):\n",
    "        \"\"\"\n",
    "        Builds the heap from an input array in O(n) time.\n",
    "\n",
    "        Args:\n",
    "            array (list): List of (vertex, distance) pairs.\n",
    "\n",
    "        Returns:\n",
    "            list: The input array transformed into a valid MinHeap.\n",
    "        \"\"\"\n",
    "        # Start from the first parent node and sift down each node.\n",
    "        firstParentIdx = (len(array) - 2) // 2\n",
    "        for currentIdx in reversed(range(firstParentIdx + 1)):\n",
    "            self.siftDown(currentIdx, len(array) - 1, array)\n",
    "        return array\n",
    "\n",
    "    def siftDown(self, currentIdx, endIdx, heap):\n",
    "        \"\"\"\n",
    "        Restores the heap property by \"sifting down\" a node into its correct position.\n",
    "\n",
    "        Args:\n",
    "            currentIdx (int): Index of the node to sift down.\n",
    "            endIdx (int): Last index in the heap.\n",
    "            heap (list): The heap array.\n",
    "\n",
    "        Complexity:\n",
    "            Time: O(log(n))\n",
    "            Space: O(1)\n",
    "        \"\"\"\n",
    "        childOneIdx = currentIdx * 2 + 1  # Index of the first child\n",
    "        while childOneIdx <= endIdx:\n",
    "            # Determine the index of the second child\n",
    "            childTwoIdx = currentIdx * 2 + 2 if currentIdx * 2 + 2 <= endIdx else -1\n",
    "\n",
    "            # Choose the smaller child to maintain the min-heap property\n",
    "            if childTwoIdx != -1 and heap[childTwoIdx][1] < heap[childOneIdx][1]:\n",
    "                idxToSwap = childTwoIdx\n",
    "            else:\n",
    "                idxToSwap = childOneIdx\n",
    "\n",
    "            # Swap if the child is smaller than the current node\n",
    "            if heap[idxToSwap][1] < heap[currentIdx][1]:\n",
    "                self.swap(currentIdx, idxToSwap, heap)\n",
    "                currentIdx = idxToSwap  # Move to the swapped position\n",
    "                childOneIdx = currentIdx * 2 + 1  # Update the first child index\n",
    "            else:\n",
    "                return\n",
    "\n",
    "    def siftUp(self, currentIdx, heap):\n",
    "        \"\"\"\n",
    "        Restores the heap property by \"sifting up\" a node into its correct position.\n",
    "\n",
    "        Args:\n",
    "            currentIdx (int): Index of the node to sift up.\n",
    "            heap (list): The heap array.\n",
    "\n",
    "        Complexity:\n",
    "            Time: O(log(n))\n",
    "            Space: O(1)\n",
    "        \"\"\"\n",
    "        parentIdx = (currentIdx - 1) // 2  # Calculate parent index\n",
    "        while currentIdx > 0 and heap[currentIdx][1] < heap[parentIdx][1]:\n",
    "            self.swap(currentIdx, parentIdx, heap)  # Swap with parent\n",
    "            currentIdx = parentIdx  # Move to the parent's position\n",
    "            parentIdx = (currentIdx - 1) // 2\n",
    "\n",
    "    def remove(self):\n",
    "        \"\"\"\n",
    "        Removes and returns the smallest element (root) in the heap.\n",
    "\n",
    "        Returns:\n",
    "            tuple: The (vertex, distance) pair with the smallest distance.\n",
    "\n",
    "        Complexity:\n",
    "            Time: O(log(n))\n",
    "            Space: O(1)\n",
    "        \"\"\"\n",
    "        if self.isEmpty():\n",
    "            return None\n",
    "\n",
    "        # Swap the root with the last element and remove it\n",
    "        self.swap(0, len(self.heap) - 1, self.heap)\n",
    "        vertex, distance = self.heap.pop()\n",
    "        self.vertexMap.pop(vertex)  # Remove the vertex from the map\n",
    "\n",
    "        # Restore the heap property\n",
    "        self.siftDown(0, len(self.heap) - 1, self.heap)\n",
    "        return vertex, distance\n",
    "\n",
    "    def swap(self, i, j, heap):\n",
    "        \"\"\"\n",
    "        Swaps two nodes in the heap and updates their positions in the vertexMap.\n",
    "\n",
    "        Args:\n",
    "            i (int): Index of the first node.\n",
    "            j (int): Index of the second node.\n",
    "            heap (list): The heap array.\n",
    "        \"\"\"\n",
    "        self.vertexMap[heap[i][0]] = j  # Update vertexMap for heap[i]\n",
    "        self.vertexMap[heap[j][0]] = i  # Update vertexMap for heap[j]\n",
    "        heap[i], heap[j] = heap[j], heap[i]  # Swap the nodes in the heap\n",
    "\n",
    "    def update(self, vertex, value):\n",
    "        \"\"\"\n",
    "        Updates the distance of a given vertex and restores the heap property.\n",
    "\n",
    "        Args:\n",
    "            vertex (int): The vertex whose distance is to be updated.\n",
    "            value (int): The new distance value.\n",
    "\n",
    "        Complexity:\n",
    "            Time: O(log(n))\n",
    "            Space: O(1)\n",
    "        \"\"\"\n",
    "        # Update the heap with the new (vertex, value) pair\n",
    "        self.heap[self.vertexMap[vertex]] = (vertex, value)\n",
    "        # Restore the heap property by sifting up the updated node\n",
    "        self.siftUp(self.vertexMap[vertex], self.heap)"
   ]
  },
  {
   "cell_type": "code",
   "execution_count": 12,
   "id": "7a508b13",
   "metadata": {},
   "outputs": [],
   "source": [
    "# O((v + e) * log(v)) time | O(v) space — where v is the number\n",
    "# of vertices and e is the number of edges in the input graph\n",
    "def dijkstra_min_heap(start, edges):\n",
    "    \"\"\"\n",
    "    Implements Dijkstra's algorithm to find the shortest paths from a starting vertex to all other vertices\n",
    "    in a weighted graph. The graph is represented using an adjacency list.\n",
    "\n",
    "    Args:\n",
    "        start (int): The starting vertex index.\n",
    "        edges (list of list): An adjacency list where each index represents a vertex, and each entry\n",
    "                              is a list of [destination, weight] pairs.\n",
    "\n",
    "    Returns:\n",
    "        list: A list of minimum distances from the starting vertex to each vertex in the graph.\n",
    "              If a vertex is unreachable, its distance is represented as -1.\n",
    "    \"\"\"\n",
    "    # Step 1: Initialize the number of vertices in the graph\n",
    "    numberOfVertices = len(edges)\n",
    "\n",
    "    # Step 2: Initialize the minimum distances with infinity\n",
    "    # Set the starting vertex's distance to 0\n",
    "    minDistances = [float(\"inf\") for _ in range(numberOfVertices)]\n",
    "    minDistances[start] = 0\n",
    "\n",
    "    # Step 3: Initialize the MinHeap to track the vertices and their current shortest distances\n",
    "    minDistancesHeap = MinHeap([(idx, float(\"inf\")) for idx in range(numberOfVertices)])\n",
    "    minDistancesHeap.update(start, 0)  # Update the starting vertex's distance to 0\n",
    "\n",
    "    # Step 4: Process vertices until the heap is empty\n",
    "    while not minDistancesHeap.isEmpty():\n",
    "        # Extract the vertex with the smallest known distance\n",
    "        vertex, currentMinDistance = minDistancesHeap.remove()\n",
    "\n",
    "        # If the current distance is infinity, no further reachable vertices exist\n",
    "        if currentMinDistance == float(\"inf\"):\n",
    "            break\n",
    "\n",
    "        # Step 5: Relaxation - Update distances for all neighboring vertices\n",
    "        for edge in edges[vertex]:\n",
    "            destination, distanceToDestination = edge  # Extract neighbor and weight\n",
    "\n",
    "            # Calculate the new potential path distance\n",
    "            newPathDistance = currentMinDistance + distanceToDestination\n",
    "            currentDestinationDistance = minDistances[destination]\n",
    "\n",
    "            # If the new path is shorter, update the distance and the heap\n",
    "            if newPathDistance < currentDestinationDistance:\n",
    "                minDistances[destination] = newPathDistance\n",
    "                minDistancesHeap.update(destination, newPathDistance)\n",
    "\n",
    "    # Step 6: Convert unreachable vertices' distances from infinity to -1\n",
    "    return list(map(lambda x: -1 if x == float(\"inf\") else x, minDistances))"
   ]
  },
  {
   "cell_type": "markdown",
   "id": "c7019700",
   "metadata": {},
   "source": [
    "Gemini"
   ]
  },
  {
   "cell_type": "code",
   "execution_count": null,
   "id": "800b34d8",
   "metadata": {},
   "outputs": [],
   "source": [
    "class MinHeap_edit:\n",
    "    \"\"\"\n",
    "    Classe MinHeap\n",
    "    Baseada no arquivo 'dijsktra_min_heap.ipynb'.\n",
    "    \"\"\"\n",
    "    def __init__(self, array):\n",
    "        self.vertexMap = {idx: idx for idx in range(len(array))}\n",
    "        self.heap = self.buildHeap(array)\n",
    "\n",
    "    def isEmpty(self):\n",
    "        return len(self.heap) == 0\n",
    "\n",
    "    def buildHeap(self, array):\n",
    "        firstParentIdx = (len(array) - 2) // 2\n",
    "        for currentIdx in reversed(range(firstParentIdx + 1)):\n",
    "            self.siftDown(currentIdx, len(array) - 1, array)\n",
    "        return array\n",
    "\n",
    "    def siftDown(self, currentIdx, endIdx, heap):\n",
    "        childOneIdx = currentIdx * 2 + 1\n",
    "        while childOneIdx <= endIdx:\n",
    "            childTwoIdx = currentIdx * 2 + 2 if currentIdx * 2 + 2 <= endIdx else -1\n",
    "            if childTwoIdx != -1 and heap[childTwoIdx][1] < heap[childOneIdx][1]:\n",
    "                idxToSwap = childTwoIdx\n",
    "            else:\n",
    "                idxToSwap = childOneIdx\n",
    "            if heap[idxToSwap][1] < heap[currentIdx][1]:\n",
    "                self.swap(currentIdx, idxToSwap, heap)\n",
    "                currentIdx = idxToSwap\n",
    "                childOneIdx = currentIdx * 2 + 1\n",
    "            else:\n",
    "                return\n",
    "\n",
    "    def siftUp(self, currentIdx, heap):\n",
    "        parentIdx = (currentIdx - 1) // 2\n",
    "        while currentIdx > 0 and heap[currentIdx][1] < heap[parentIdx][1]:\n",
    "            self.swap(currentIdx, parentIdx, heap)\n",
    "            currentIdx = parentIdx\n",
    "            parentIdx = (currentIdx - 1) // 2\n",
    "\n",
    "    def remove(self):\n",
    "        if self.isEmpty():\n",
    "            return None\n",
    "        self.swap(0, len(self.heap) - 1, self.heap)\n",
    "        vertex, distance = self.heap.pop()\n",
    "        self.vertexMap.pop(vertex)\n",
    "        self.siftDown(0, len(self.heap) - 1, self.heap)\n",
    "        return vertex, distance\n",
    "\n",
    "    def swap(self, i, j, heap):\n",
    "        self.vertexMap[heap[i][0]] = j\n",
    "        self.vertexMap[heap[j][0]] = i\n",
    "        heap[i], heap[j] = heap[j], heap[i]\n",
    "\n",
    "    def update(self, vertex, value):\n",
    "        self.heap[self.vertexMap[vertex]] = (vertex, value)\n",
    "        self.siftUp(self.vertexMap[vertex], self.heap)\n",
    "\n",
    "# O((v + e) * log(v)) time | O(v) space\n",
    "def dijkstra_min_heap(start, edges):\n",
    "    \"\"\"\n",
    "    Implementação do Dijkstra com Min-Heap (O((V+E)logV)).\n",
    "    Baseado no arquivo 'dijsktra_min_heap.ipynb'.\n",
    "    \"\"\"\n",
    "    numberOfVertices = len(edges)\n",
    "    minDistances = [float(\"inf\") for _ in range(numberOfVertices)]\n",
    "    minDistances[start] = 0\n",
    "    minDistancesHeap = MinHeap([(idx, float(\"inf\")) for idx in range(numberOfVertices)])\n",
    "    minDistancesHeap.update(start, 0)\n",
    "\n",
    "    while not minDistancesHeap.isEmpty():\n",
    "        vertex, currentMinDistance = minDistancesHeap.remove()\n",
    "\n",
    "        if currentMinDistance == float(\"inf\"):\n",
    "            break\n",
    "\n",
    "        for edge in edges[vertex]:\n",
    "            destination, distanceToDestination = edge\n",
    "            newPathDistance = currentMinDistance + distanceToDestination\n",
    "            currentDestinationDistance = minDistances[destination]\n",
    "\n",
    "            if newPathDistance < currentDestinationDistance:\n",
    "                minDistances[destination] = newPathDistance\n",
    "                minDistancesHeap.update(destination, newPathDistance)\n",
    "\n",
    "    return list(map(lambda x: -1 if x == float(\"inf\") else x, minDistances))"
   ]
  },
  {
   "cell_type": "markdown",
   "id": "793862bd",
   "metadata": {},
   "source": [
    "# Funções Auxiliares do Experimento (Geração e Conversão)"
   ]
  },
  {
   "cell_type": "code",
   "execution_count": 13,
   "id": "fd87d7b5",
   "metadata": {},
   "outputs": [],
   "source": [
    "def create_connected_graph(n, p_factor, seed):\n",
    "    \"\"\"\n",
    "    Gera um grafo 'nx.gnp_random_graph' direcionado, ponderado e conectado.\n",
    "    \n",
    "    Os algoritmos de sala assumem um grafo direcionado.\n",
    "    Garantimos conectividade (fraca) pegando o componente gigante, \n",
    "    conforme a dica no 'challenge.ipynb'.\n",
    "    \"\"\"\n",
    "    # Para um grafo direcionado, a conectividade é mais complexa.\n",
    "    # Usamos p ~ p_factor * log(n) / n para aumentar a chance de conectividade.\n",
    "    if n <= 1:\n",
    "        return nx.DiGraph()\n",
    "        \n",
    "    p = (p_factor * np.log(n)) / n\n",
    "    p = min(p, 1.0) # Garante que p não seja > 1\n",
    "    \n",
    "    rng = np.random.default_rng(seed)\n",
    "    G = nx.gnp_random_graph(n, p, seed=seed, directed=True)\n",
    "    \n",
    "    # Se o grafo não for (fracamente) conectado, pega o maior componente\n",
    "    if not nx.is_weakly_connected(G):\n",
    "        largest_wcc = max(nx.weakly_connected_components(G), key=len)\n",
    "        G = G.subgraph(largest_wcc).copy() # .copy() é importante\n",
    "    \n",
    "    # Renomeia os nós para 0..N-1, o que é crucial para os algoritmos de sala\n",
    "    G = nx.convert_node_labels_to_integers(G, first_label=0)\n",
    "\n",
    "    # Adiciona pesos inteiros positivos (1 a 10)\n",
    "    for u, v in G.edges():\n",
    "        G[u][v]['weight'] = rng.integers(1, 11)\n",
    "        \n",
    "    return G\n",
    "\n",
    "def convert_nx_to_adj_list(G):\n",
    "    \"\"\"\n",
    "    Função de adaptação CRÍTICA.\n",
    "    Converte um objeto 'networkx.DiGraph' para o formato de lista de adjacência\n",
    "    esperado pelos algoritmos de sala: [[(dest, peso), ...], ...]\n",
    "    \"\"\"\n",
    "    num_nodes = G.number_of_nodes()\n",
    "    adj_list = [[] for _ in range(num_nodes)]\n",
    "    \n",
    "    # G.nodes() deve ser [0, 1, ..., num_nodes-1] graças ao 'convert_node_labels_to_integers'\n",
    "    for u in G.nodes():\n",
    "        for v, data in G[u].items():\n",
    "            adj_list[u].append([v, data['weight']])\n",
    "            \n",
    "    return adj_list"
   ]
  },
  {
   "cell_type": "markdown",
   "id": "fa296109",
   "metadata": {},
   "source": [
    "# O Executor do Experimento\n"
   ]
  },
  {
   "cell_type": "code",
   "execution_count": 14,
   "id": "4a9c18b6",
   "metadata": {},
   "outputs": [],
   "source": [
    "def run_experiment(graph_size, num_repetitions, num_sources, base_seed):\n",
    "    \"\"\"\n",
    "    Executa o experimento para um determinado tamanho de grafo.\n",
    "    \"\"\"\n",
    "    print(f\"\\n--- Iniciando testes para N = {graph_size} (Repetições={num_repetitions}) ---\")\n",
    "    \n",
    "    times = {'classic': [], 'heap': [], 'nx': []}\n",
    "    co2 = {'classic': [], 'heap': [], 'nx': []}\n",
    "    \n",
    "    # Limite de segurança para o O(V^2)\n",
    "    # O algoritmo clássico é O(V^2). Para 10.000 nós, isso é 100.000.000 de operações.\n",
    "    # Para 50.000 nós, são 2.500.000.000 de operações.\n",
    "    # Vamos pular o clássico para grafos muito grandes.\n",
    "    SKIP_CLASSIC = (graph_size > 50000)\n",
    "    if SKIP_CLASSIC:\n",
    "        print(f\"AVISO: Algoritmo Clássico O(V^2) será PULADO para N={graph_size} (muito lento).\")\n",
    "\n",
    "    \n",
    "    for i in range(num_repetitions):\n",
    "        # 1. Definir sementes para reprodutibilidade (diferente a cada repetição)\n",
    "        current_seed = base_seed + i\n",
    "        random.seed(current_seed)\n",
    "        np.random.seed(current_seed)\n",
    "        \n",
    "        # 2. Gerar Grafo (um novo grafo por repetição)\n",
    "        # Usamos p_factor=3 para ter grafos razoavelmente densos\n",
    "        G = create_connected_graph(graph_size, p_factor=3, seed=current_seed)\n",
    "        \n",
    "        actual_nodes = G.number_of_nodes()\n",
    "        if actual_nodes < num_sources:\n",
    "            print(f\"  Rep {i+1}/{num_repetitions}: Pulado (Grafo muito pequeno: {actual_nodes} nós)\")\n",
    "            continue\n",
    "            \n",
    "        # 3. Converter Grafo (Adaptação)\n",
    "        adj_list = convert_nx_to_adj_list(G)\n",
    "        \n",
    "        # 4. Escolher 5 nós fonte aleatórios\n",
    "        sources = random.sample(list(G.nodes()), num_sources)\n",
    "        print(\"Nós fontes escolhidos: [\", sources,\"]\")\n",
    "        \n",
    "        # --- 5.1 Teste: Dijkstra Clássico (O(V^2)) ---\n",
    "        if not SKIP_CLASSIC:\n",
    "            tracker_c = EmissionsTracker(save_to_file=False, log_level='critical')\n",
    "            tracker_c.start()\n",
    "            start_c = time.perf_counter()\n",
    "            \n",
    "            for s in sources:\n",
    "                dijkstra_classic(s, adj_list)\n",
    "                \n",
    "            end_c = time.perf_counter()\n",
    "            co2_c = tracker_c.stop()\n",
    "            times['classic'].append(end_c - start_c)\n",
    "            co2['classic'].append(co2_c)\n",
    "        \n",
    "        # --- 5.2 Teste: Dijkstra Min-Heap (O((E+V)logV)) ---\n",
    "        tracker_h = EmissionsTracker(save_to_file=False, log_level='critical')\n",
    "        tracker_h.start()\n",
    "        start_h = time.perf_counter()\n",
    "        \n",
    "        for s in sources:\n",
    "            dijkstra_min_heap(s, adj_list)\n",
    "            \n",
    "        end_h = time.perf_counter()\n",
    "        co2_h = tracker_h.stop()\n",
    "        times['heap'].append(end_h - start_h)\n",
    "        co2['heap'].append(co2_h)\n",
    "\n",
    "        # --- 5.3 Teste: NetworkX (Referência) ---\n",
    "        tracker_nx = EmissionsTracker(save_to_file=False, log_level='critical')\n",
    "        tracker_nx.start()\n",
    "        start_nx = time.perf_counter()\n",
    "        \n",
    "        for s in sources:\n",
    "            nx.single_source_dijkstra_path_length(G, s, weight='weight')\n",
    "            \n",
    "        end_nx = time.perf_counter()\n",
    "        co2_nx = tracker_nx.stop()\n",
    "        times['nx'].append(end_nx - start_nx)\n",
    "        co2['nx'].append(co2_nx)\n",
    "        \n",
    "        print(f\"  Rep {i+1}/{num_repetitions}... OK\")\n",
    "        \n",
    "    # 6. Calcular Estatísticas\n",
    "    results = {}\n",
    "    for alg in ['classic', 'heap', 'nx']:\n",
    "        results[f'{alg}_time_mean'] = np.mean(times[alg]) if times[alg] else np.nan\n",
    "        results[f'{alg}_time_std'] = np.std(times[alg]) if times[alg] else np.nan\n",
    "        results[f'{alg}_co2_mean'] = np.mean(co2[alg]) if co2[alg] else np.nan\n",
    "        results[f'{alg}_co2_std'] = np.std(co2[alg]) if co2[alg] else np.nan\n",
    "        \n",
    "    return results"
   ]
  },
  {
   "cell_type": "markdown",
   "id": "decc5b7d",
   "metadata": {},
   "source": [
    "# Execução e Coleta de Dados"
   ]
  },
  {
   "cell_type": "code",
   "execution_count": 20,
   "id": "b0839667",
   "metadata": {},
   "outputs": [
    {
     "name": "stdout",
     "output_type": "stream",
     "text": [
      "\n",
      "--- Iniciando testes para N = 100 (Repetições=15) ---\n",
      "Nós fontes escolhidos: [ [81, 14, 3, 94, 35] ]\n",
      "  Rep 1/15... OK\n",
      "Nós fontes escolhidos: [ [4, 36, 89, 97, 18] ]\n",
      "  Rep 2/15... OK\n",
      "Nós fontes escolhidos: [ [52, 66, 69, 89, 14] ]\n",
      "  Rep 3/15... OK\n",
      "Nós fontes escolhidos: [ [34, 53, 62, 32, 10] ]\n",
      "  Rep 4/15... OK\n",
      "Nós fontes escolhidos: [ [9, 51, 5, 75, 29] ]\n",
      "  Rep 5/15... OK\n",
      "Nós fontes escolhidos: [ [45, 8, 55, 70, 58] ]\n",
      "  Rep 6/15... OK\n",
      "Nós fontes escolhidos: [ [70, 40, 16, 71, 91] ]\n",
      "  Rep 7/15... OK\n",
      "Nós fontes escolhidos: [ [8, 44, 52, 14, 41] ]\n",
      "  Rep 8/15... OK\n",
      "Nós fontes escolhidos: [ [63, 34, 46, 81, 31] ]\n",
      "  Rep 9/15... OK\n",
      "Nós fontes escolhidos: [ [31, 64, 70, 20, 29] ]\n",
      "  Rep 10/15... OK\n",
      "Nós fontes escolhidos: [ [34, 6, 92, 65, 61] ]\n",
      "  Rep 11/15... OK\n",
      "Nós fontes escolhidos: [ [78, 27, 58, 64, 91] ]\n",
      "  Rep 12/15... OK\n",
      "Nós fontes escolhidos: [ [17, 56, 71, 38, 61] ]\n",
      "  Rep 13/15... OK\n",
      "Nós fontes escolhidos: [ [11, 25, 19, 94, 38] ]\n",
      "  Rep 14/15... OK\n",
      "Nós fontes escolhidos: [ [71, 1, 60, 83, 66] ]\n",
      "  Rep 15/15... OK\n",
      "\n",
      "--- Iniciando testes para N = 500 (Repetições=15) ---\n",
      "Nós fontes escolhidos: [ [327, 57, 12, 379, 140] ]\n",
      "  Rep 1/15... OK\n",
      "Nós fontes escolhidos: [ [19, 146, 356, 390, 73] ]\n",
      "  Rep 2/15... OK\n",
      "Nós fontes escolhidos: [ [209, 266, 277, 359, 441] ]\n",
      "  Rep 3/15... OK\n",
      "Nós fontes escolhidos: [ [139, 213, 249, 131, 41] ]\n",
      "  Rep 4/15... OK\n",
      "Nós fontes escolhidos: [ [454, 39, 204, 20, 301] ]\n",
      "  Rep 5/15... OK\n",
      "Nós fontes escolhidos: [ [180, 32, 220, 283, 232] ]\n",
      "  Rep 6/15... OK\n",
      "Nós fontes escolhidos: [ [280, 161, 67, 285, 364] ]\n",
      "  Rep 7/15... OK\n",
      "Nós fontes escolhidos: [ [34, 176, 211, 477, 56] ]\n",
      "  Rep 8/15... OK\n",
      "Nós fontes escolhidos: [ [254, 438, 136, 186, 326] ]\n",
      "  Rep 9/15... OK\n",
      "Nós fontes escolhidos: [ [124, 429, 257, 282, 82] ]\n",
      "  Rep 10/15... OK\n",
      "Nós fontes escolhidos: [ [137, 27, 450, 371, 262] ]\n",
      "  Rep 11/15... OK\n",
      "Nós fontes escolhidos: [ [315, 436, 455, 110, 233] ]\n",
      "  Rep 12/15... OK\n",
      "Nós fontes escolhidos: [ [467, 70, 224, 284, 152] ]\n",
      "  Rep 13/15... OK\n",
      "Nós fontes escolhidos: [ [46, 486, 100, 76, 378] ]\n",
      "  Rep 14/15... OK\n",
      "Nós fontes escolhidos: [ [494, 434, 286, 5, 242] ]\n",
      "  Rep 15/15... OK\n",
      "\n",
      "--- Iniciando testes para N = 1000 (Repetições=15) ---\n",
      "Nós fontes escolhidos: [ [654, 114, 25, 759, 281] ]\n",
      "  Rep 1/15... OK\n",
      "Nós fontes escolhidos: [ [39, 292, 712, 780, 147] ]\n",
      "  Rep 2/15... OK\n",
      "Nós fontes escolhidos: [ [418, 532, 554, 718, 882] ]\n",
      "  Rep 3/15... OK\n",
      "Nós fontes escolhidos: [ [278, 427, 499, 263, 83] ]\n",
      "  Rep 4/15... OK\n",
      "Nós fontes escolhidos: [ [909, 78, 409, 40, 602] ]\n",
      "  Rep 5/15... OK\n",
      "Nós fontes escolhidos: [ [360, 64, 440, 566, 464] ]\n",
      "  Rep 6/15... OK\n",
      "Nós fontes escolhidos: [ [561, 323, 135, 570, 728] ]\n",
      "  Rep 7/15... OK\n",
      "Nós fontes escolhidos: [ [68, 352, 423, 955, 113] ]\n",
      "  Rep 8/15... OK\n",
      "Nós fontes escolhidos: [ [509, 876, 272, 372, 652] ]\n",
      "  Rep 9/15... OK\n",
      "Nós fontes escolhidos: [ [249, 858, 514, 565, 165] ]\n",
      "  Rep 10/15... OK\n",
      "Nós fontes escolhidos: [ [274, 55, 901, 743, 524] ]\n",
      "  Rep 11/15... OK\n",
      "Nós fontes escolhidos: [ [631, 873, 911, 221, 467] ]\n",
      "  Rep 12/15... OK\n",
      "Nós fontes escolhidos: [ [935, 140, 449, 569, 305] ]\n",
      "  Rep 13/15... OK\n",
      "Nós fontes escolhidos: [ [92, 973, 200, 153, 757] ]\n",
      "  Rep 14/15... OK\n",
      "Nós fontes escolhidos: [ [989, 868, 573, 11, 485] ]\n",
      "  Rep 15/15... OK\n",
      "\n",
      "--- Iniciando testes para N = 5000 (Repetições=15) ---\n",
      "Nós fontes escolhidos: [ [912, 204, 2253, 2006, 1828] ]\n",
      "  Rep 1/15... OK\n",
      "Nós fontes escolhidos: [ [315, 2343, 1179, 3789, 3030] ]\n",
      "  Rep 2/15... OK\n",
      "Nós fontes escolhidos: [ [3346, 4260, 4439, 955, 1447] ]\n",
      "  Rep 3/15... OK\n",
      "Nós fontes escolhidos: [ [2227, 3421, 3997, 2110, 670] ]\n",
      "  Rep 4/15... OK\n",
      "Nós fontes escolhidos: [ [625, 3276, 327, 4821, 4807] ]\n",
      "  Rep 5/15... OK\n",
      "Nós fontes escolhidos: [ [2882, 512, 3524, 4535, 3716] ]\n",
      "  Rep 6/15... OK\n",
      "Nós fontes escolhidos: [ [4490, 2584, 1080, 4562, 4380] ]\n",
      "  Rep 7/15... OK\n",
      "Nós fontes escolhidos: [ [547, 2820, 3385, 905, 2650] ]\n",
      "  Rep 8/15... OK\n",
      "Nós fontes escolhidos: [ [4075, 2180, 2982, 1986, 3876] ]\n",
      "  Rep 9/15... OK\n",
      "Nós fontes escolhidos: [ [1994, 4114, 4524, 1326, 2015] ]\n",
      "  Rep 10/15... OK\n",
      "Nós fontes escolhidos: [ [2198, 446, 4199, 3963, 3039] ]\n",
      "  Rep 11/15... OK\n",
      "Nós fontes escolhidos: [ [1769, 3739, 4112, 3954, 4264] ]\n",
      "  Rep 12/15... OK\n",
      "Nós fontes escolhidos: [ [1126, 3595, 4555, 2440, 3956] ]\n",
      "  Rep 13/15... OK\n",
      "Nós fontes escolhidos: [ [740, 1607, 1228, 2479, 652] ]\n",
      "  Rep 14/15... OK\n",
      "Nós fontes escolhidos: [ [4585, 94, 3880, 4286, 2466] ]\n",
      "  Rep 15/15... OK\n",
      "\n",
      "--- Iniciando testes para N = 10000 (Repetições=15) ---\n",
      "Nós fontes escolhidos: [ [1824, 409, 4506, 4012, 3657] ]\n",
      "  Rep 1/15... OK\n",
      "Nós fontes escolhidos: [ [631, 4687, 2358, 7578, 6060] ]\n",
      "  Rep 2/15... OK\n",
      "Nós fontes escolhidos: [ [6693, 8520, 8879, 1911, 2894] ]\n",
      "  Rep 3/15... OK\n",
      "Nós fontes escolhidos: [ [4454, 6843, 7995, 4221, 1341] ]\n",
      "  Rep 4/15... OK\n",
      "Nós fontes escolhidos: [ [1251, 6553, 654, 9643, 9615] ]\n",
      "  Rep 5/15... OK\n",
      "Nós fontes escolhidos: [ [5764, 1024, 7048, 9070, 7432] ]\n",
      "  Rep 6/15... OK\n",
      "Nós fontes escolhidos: [ [8981, 5168, 2160, 9124, 8761] ]\n",
      "  Rep 7/15... OK\n",
      "Nós fontes escolhidos: [ [1095, 5641, 6770, 1810, 5300] ]\n",
      "  Rep 8/15... OK\n",
      "Nós fontes escolhidos: [ [8151, 4360, 5965, 3972, 7752] ]\n",
      "  Rep 9/15... OK\n",
      "Nós fontes escolhidos: [ [3989, 8228, 9048, 2653, 4031] ]\n",
      "  Rep 10/15... OK\n",
      "Nós fontes escolhidos: [ [4396, 893, 8398, 7927, 6078] ]\n",
      "  Rep 11/15... OK\n",
      "Nós fontes escolhidos: [ [3539, 7479, 8225, 7908, 8528] ]\n",
      "  Rep 12/15... OK\n",
      "Nós fontes escolhidos: [ [2252, 7191, 9110, 4881, 7913] ]\n",
      "  Rep 13/15... OK\n",
      "Nós fontes escolhidos: [ [1480, 3215, 2457, 4959, 1305] ]\n",
      "  Rep 14/15... OK\n",
      "Nós fontes escolhidos: [ [9171, 188, 7760, 8573, 4933] ]\n",
      "  Rep 15/15... OK\n",
      "\n",
      "--- Iniciando testes para N = 50000 (Repetições=15) ---\n",
      "Nós fontes escolhidos: [ [41905, 7296, 1639, 48598, 18024] ]\n",
      "  Rep 1/15... OK\n",
      "Nós fontes escolhidos: [ [2526, 18748, 45627, 49983, 9432] ]\n",
      "  Rep 2/15... OK\n",
      "Nós fontes escolhidos: [ [26773, 34080, 35518, 45980, 7645] ]\n",
      "  Rep 3/15... OK\n",
      "Nós fontes escolhidos: [ [17817, 27373, 31983, 16886, 5366] ]\n",
      "  Rep 4/15... OK\n",
      "Nós fontes escolhidos: [ [5005, 26214, 2618, 38575, 38463] ]\n",
      "  Rep 5/15... OK\n",
      "Nós fontes escolhidos: [ [23058, 4097, 28192, 36283, 29731] ]\n",
      "  Rep 6/15... OK\n",
      "Nós fontes escolhidos: [ [35924, 20673, 8643, 36497, 46631] ]\n",
      "  Rep 7/15... OK\n",
      "Nós fontes escolhidos: [ [4383, 22566, 27082, 7242, 21200] ]\n",
      "  Rep 8/15... OK\n",
      "Nós fontes escolhidos: [ [32606, 17443, 23861, 41773, 15891] ]\n",
      "  Rep 9/15... OK\n",
      "Nós fontes escolhidos: [ [15959, 32912, 36194, 10612, 16127] ]\n",
      "  Rep 10/15... OK\n",
      "Nós fontes escolhidos: [ [17584, 3573, 47556, 33592, 31710] ]\n",
      "  Rep 11/15... OK\n",
      "Nós fontes escolhidos: [ [40444, 14159, 29916, 32903, 46622] ]\n",
      "  Rep 12/15... OK\n",
      "Nós fontes escolhidos: [ [9009, 28766, 36442, 19524, 31655] ]\n",
      "  Rep 13/15... OK\n",
      "Nós fontes escolhidos: [ [5920, 12861, 9828, 48455, 19836] ]\n",
      "  Rep 14/15... OK\n",
      "Nós fontes escolhidos: [ [36684, 753, 31042, 42801, 34293] ]\n",
      "  Rep 15/15... OK\n",
      "\n",
      "--- Experimento Concluído ---\n",
      "\n",
      "Tabela de Resultados (Médias e Desvios-Padrão):\n"
     ]
    },
    {
     "data": {
      "text/html": [
       "<div>\n",
       "<style scoped>\n",
       "    .dataframe tbody tr th:only-of-type {\n",
       "        vertical-align: middle;\n",
       "    }\n",
       "\n",
       "    .dataframe tbody tr th {\n",
       "        vertical-align: top;\n",
       "    }\n",
       "\n",
       "    .dataframe thead th {\n",
       "        text-align: right;\n",
       "    }\n",
       "</style>\n",
       "<table border=\"1\" class=\"dataframe\">\n",
       "  <thead>\n",
       "    <tr style=\"text-align: right;\">\n",
       "      <th></th>\n",
       "      <th>classic_time_mean</th>\n",
       "      <th>classic_time_std</th>\n",
       "      <th>classic_co2_mean</th>\n",
       "      <th>classic_co2_std</th>\n",
       "      <th>heap_time_mean</th>\n",
       "      <th>heap_time_std</th>\n",
       "      <th>heap_co2_mean</th>\n",
       "      <th>heap_co2_std</th>\n",
       "      <th>nx_time_mean</th>\n",
       "      <th>nx_time_std</th>\n",
       "      <th>nx_co2_mean</th>\n",
       "      <th>nx_co2_std</th>\n",
       "    </tr>\n",
       "    <tr>\n",
       "      <th>size</th>\n",
       "      <th></th>\n",
       "      <th></th>\n",
       "      <th></th>\n",
       "      <th></th>\n",
       "      <th></th>\n",
       "      <th></th>\n",
       "      <th></th>\n",
       "      <th></th>\n",
       "      <th></th>\n",
       "      <th></th>\n",
       "      <th></th>\n",
       "      <th></th>\n",
       "    </tr>\n",
       "  </thead>\n",
       "  <tbody>\n",
       "    <tr>\n",
       "      <th>100</th>\n",
       "      <td>0.019783</td>\n",
       "      <td>0.000924</td>\n",
       "      <td>1.929599e-07</td>\n",
       "      <td>1.199508e-09</td>\n",
       "      <td>0.013034</td>\n",
       "      <td>0.000464</td>\n",
       "      <td>1.779942e-07</td>\n",
       "      <td>4.553564e-08</td>\n",
       "      <td>0.006057</td>\n",
       "      <td>0.000361</td>\n",
       "      <td>1.877233e-07</td>\n",
       "      <td>6.301796e-10</td>\n",
       "    </tr>\n",
       "    <tr>\n",
       "      <th>500</th>\n",
       "      <td>0.138806</td>\n",
       "      <td>0.002185</td>\n",
       "      <td>2.366148e-07</td>\n",
       "      <td>8.843375e-10</td>\n",
       "      <td>0.034440</td>\n",
       "      <td>0.002493</td>\n",
       "      <td>1.852316e-07</td>\n",
       "      <td>4.739442e-08</td>\n",
       "      <td>0.024625</td>\n",
       "      <td>0.001551</td>\n",
       "      <td>1.942606e-07</td>\n",
       "      <td>6.072264e-10</td>\n",
       "    </tr>\n",
       "    <tr>\n",
       "      <th>1000</th>\n",
       "      <td>0.494348</td>\n",
       "      <td>0.013632</td>\n",
       "      <td>3.682530e-07</td>\n",
       "      <td>5.186549e-09</td>\n",
       "      <td>0.062492</td>\n",
       "      <td>0.001767</td>\n",
       "      <td>2.084231e-07</td>\n",
       "      <td>6.944883e-10</td>\n",
       "      <td>0.048767</td>\n",
       "      <td>0.024669</td>\n",
       "      <td>1.905538e-07</td>\n",
       "      <td>4.960516e-08</td>\n",
       "    </tr>\n",
       "    <tr>\n",
       "      <th>5000</th>\n",
       "      <td>10.854442</td>\n",
       "      <td>0.075135</td>\n",
       "      <td>4.227914e-06</td>\n",
       "      <td>3.101355e-08</td>\n",
       "      <td>0.325757</td>\n",
       "      <td>0.027301</td>\n",
       "      <td>2.871440e-07</td>\n",
       "      <td>7.429413e-08</td>\n",
       "      <td>0.216150</td>\n",
       "      <td>0.003884</td>\n",
       "      <td>2.481205e-07</td>\n",
       "      <td>6.347652e-08</td>\n",
       "    </tr>\n",
       "    <tr>\n",
       "      <th>10000</th>\n",
       "      <td>41.389496</td>\n",
       "      <td>1.171820</td>\n",
       "      <td>1.529479e-05</td>\n",
       "      <td>6.494847e-07</td>\n",
       "      <td>0.644192</td>\n",
       "      <td>0.045163</td>\n",
       "      <td>3.973603e-07</td>\n",
       "      <td>1.031077e-07</td>\n",
       "      <td>0.457181</td>\n",
       "      <td>0.031139</td>\n",
       "      <td>3.313744e-07</td>\n",
       "      <td>8.556291e-08</td>\n",
       "    </tr>\n",
       "    <tr>\n",
       "      <th>50000</th>\n",
       "      <td>1070.801177</td>\n",
       "      <td>42.520411</td>\n",
       "      <td>3.844486e-04</td>\n",
       "      <td>1.559382e-05</td>\n",
       "      <td>4.761567</td>\n",
       "      <td>0.359209</td>\n",
       "      <td>1.959115e-06</td>\n",
       "      <td>1.374343e-07</td>\n",
       "      <td>4.311657</td>\n",
       "      <td>0.304484</td>\n",
       "      <td>1.674321e-06</td>\n",
       "      <td>4.437941e-07</td>\n",
       "    </tr>\n",
       "  </tbody>\n",
       "</table>\n",
       "</div>"
      ],
      "text/plain": [
       "       classic_time_mean  classic_time_std  classic_co2_mean  classic_co2_std  \\\n",
       "size                                                                            \n",
       "100             0.019783          0.000924      1.929599e-07     1.199508e-09   \n",
       "500             0.138806          0.002185      2.366148e-07     8.843375e-10   \n",
       "1000            0.494348          0.013632      3.682530e-07     5.186549e-09   \n",
       "5000           10.854442          0.075135      4.227914e-06     3.101355e-08   \n",
       "10000          41.389496          1.171820      1.529479e-05     6.494847e-07   \n",
       "50000        1070.801177         42.520411      3.844486e-04     1.559382e-05   \n",
       "\n",
       "       heap_time_mean  heap_time_std  heap_co2_mean  heap_co2_std  \\\n",
       "size                                                                \n",
       "100          0.013034       0.000464   1.779942e-07  4.553564e-08   \n",
       "500          0.034440       0.002493   1.852316e-07  4.739442e-08   \n",
       "1000         0.062492       0.001767   2.084231e-07  6.944883e-10   \n",
       "5000         0.325757       0.027301   2.871440e-07  7.429413e-08   \n",
       "10000        0.644192       0.045163   3.973603e-07  1.031077e-07   \n",
       "50000        4.761567       0.359209   1.959115e-06  1.374343e-07   \n",
       "\n",
       "       nx_time_mean  nx_time_std   nx_co2_mean    nx_co2_std  \n",
       "size                                                          \n",
       "100        0.006057     0.000361  1.877233e-07  6.301796e-10  \n",
       "500        0.024625     0.001551  1.942606e-07  6.072264e-10  \n",
       "1000       0.048767     0.024669  1.905538e-07  4.960516e-08  \n",
       "5000       0.216150     0.003884  2.481205e-07  6.347652e-08  \n",
       "10000      0.457181     0.031139  3.313744e-07  8.556291e-08  \n",
       "50000      4.311657     0.304484  1.674321e-06  4.437941e-07  "
      ]
     },
     "metadata": {},
     "output_type": "display_data"
    }
   ],
   "source": [
    "# --- Configurações do Experimento ---\n",
    "# Semente global para reprodutibilidade\n",
    "BASE_SEED = 42\n",
    "\n",
    "# Tamanhos de grafos sugeridos\n",
    "# NOTA: 50k e 100k podem demorar MUITO, mesmo com o Min-Heap (devido às 15 repetições)\n",
    "# O Clássico O(V^2) será pulado para N > 10000.\n",
    "GRAPH_SIZES = [100, 500, 1000, 5000, 10000, 50000] \n",
    "# Para um teste mais rápido:\n",
    "#GRAPH_SIZES = [100, 500]\n",
    "\n",
    "# 15 repetições por tamanho\n",
    "NUM_REPETITIONS = 15\n",
    "# 5 nós fontes por repetição\n",
    "NUM_SOURCES = 5\n",
    "# --------------------------------------\n",
    "\n",
    "all_results = []\n",
    "for size in GRAPH_SIZES:\n",
    "    res = run_experiment(size, NUM_REPETITIONS, NUM_SOURCES, BASE_SEED)\n",
    "    res['size'] = size\n",
    "    all_results.append(res)\n",
    "\n",
    "print(\"\\n--- Experimento Concluído ---\")\n",
    "\n",
    "# Converter resultados para DataFrame\n",
    "df_results = pd.DataFrame(all_results)\n",
    "df_results = df_results.set_index('size')\n",
    "\n",
    "# Salvar tabela\n",
    "df_results.to_csv('tabelas/resultados_completos.csv')\n",
    "\n",
    "print(\"\\nTabela de Resultados (Médias e Desvios-Padrão):\")\n",
    "display(df_results)"
   ]
  },
  {
   "cell_type": "markdown",
   "id": "f247df24",
   "metadata": {},
   "source": [
    "# Geração de Gráficos e Análise (Tempo)"
   ]
  },
  {
   "cell_type": "code",
   "execution_count": 21,
   "id": "8995802b",
   "metadata": {},
   "outputs": [
    {
     "data": {
      "application/vnd.plotly.v1+json": {
       "config": {
        "plotlyServerURL": "https://plot.ly"
       },
       "data": [
        {
         "customdata": {
          "bdata": "Vvc4+JpHTj+NRWpFF+ZhP/g/UXso64s/1jn7NxE8sz8OJeGrxr/yP8i2TdWcQkVA",
          "dtype": "f8",
          "shape": "6, 1"
         },
         "error_y": {
          "array": {
           "bdata": "Vvc4+JpHTj+NRWpFF+ZhP/g/UXso64s/1jn7NxE8sz8OJeGrxr/yP8i2TdWcQkVA",
           "dtype": "f8"
          }
         },
         "hovertemplate": "Algoritmo=Classic<br>Tamanho (N)=%{x}<br>Tempo Médio (s)=%{y}<br>Desvio Padrão (s)=%{customdata[0]}<extra></extra>",
         "legendgroup": "Classic",
         "line": {
          "color": "#636efa",
          "dash": "solid"
         },
         "marker": {
          "symbol": "circle"
         },
         "mode": "lines+markers",
         "name": "Classic",
         "orientation": "v",
         "showlegend": true,
         "type": "scatter",
         "x": {
          "bdata": "ZAAAAPQBAADoAwAAiBMAABAnAABQwwAA",
          "dtype": "i4"
         },
         "xaxis": "x",
         "y": {
          "bdata": "d3fX1eNBlD8iIrZXYsTBP6uqkh5ko98/qzqyanm1JUCrFvkA27FEQID0umc0u5BA",
          "dtype": "f8"
         },
         "yaxis": "y"
        },
        {
         "customdata": {
          "bdata": "VsNrNJlrPj+rkSbEu2tkP9E7YM7n8lw/CEbBZrj0mz/RRbO5kB+nP3YybAtH/dY/",
          "dtype": "f8",
          "shape": "6, 1"
         },
         "error_y": {
          "array": {
           "bdata": "VsNrNJlrPj+rkSbEu2tkP9E7YM7n8lw/CEbBZrj0mz/RRbO5kB+nP3YybAtH/dY/",
           "dtype": "f8"
          }
         },
         "hovertemplate": "Algoritmo=Heap<br>Tamanho (N)=%{x}<br>Tempo Médio (s)=%{y}<br>Desvio Padrão (s)=%{customdata[0]}<extra></extra>",
         "legendgroup": "Heap",
         "line": {
          "color": "#EF553B",
          "dash": "solid"
         },
         "marker": {
          "symbol": "circle"
         },
         "mode": "lines+markers",
         "name": "Heap",
         "orientation": "v",
         "showlegend": true,
         "type": "scatter",
         "x": {
          "bdata": "ZAAAAPQBAADoAwAAiBMAABAnAABQwwAA",
          "dtype": "i4"
         },
         "xaxis": "x",
         "y": {
          "bdata": "AAAAzYOxij/NzKynK6KhP+/u3mHk/q8/ZmZGTzLZ1D+rqpWlN53kPwAgFlnYCxNA",
          "dtype": "f8"
         },
         "yaxis": "y"
        },
        {
         "customdata": {
          "bdata": "wQm77yyjNz/I2Ii8f2hZP1//q224Qpk/EMF2C4TQbz/J4vYR8+KfP0oXYZSpfNM/",
          "dtype": "f8",
          "shape": "6, 1"
         },
         "error_y": {
          "array": {
           "bdata": "wQm77yyjNz/I2Ii8f2hZP1//q224Qpk/EMF2C4TQbz/J4vYR8+KfP0oXYZSpfNM/",
           "dtype": "f8"
          }
         },
         "hovertemplate": "Algoritmo=Nx<br>Tamanho (N)=%{x}<br>Tempo Médio (s)=%{y}<br>Desvio Padrão (s)=%{customdata[0]}<extra></extra>",
         "legendgroup": "Nx",
         "line": {
          "color": "#00cc96",
          "dash": "solid"
         },
         "marker": {
          "symbol": "circle"
         },
         "mode": "lines+markers",
         "name": "Nx",
         "orientation": "v",
         "showlegend": true,
         "type": "scatter",
         "x": {
          "bdata": "ZAAAAPQBAADoAwAAiBMAABAnAABQwwAA",
          "dtype": "i4"
         },
         "xaxis": "x",
         "y": {
          "bdata": "3t1d4+LOeD9EROSDXTeZP3d3V7b+96g/mpld+dCqyz/e3XMjc0LdPzPzIREjPxFA",
          "dtype": "f8"
         },
         "yaxis": "y"
        }
       ],
       "layout": {
        "hovermode": "x unified",
        "legend": {
         "title": {
          "text": "Algoritmo"
         },
         "tracegroupgap": 0
        },
        "template": {
         "data": {
          "bar": [
           {
            "error_x": {
             "color": "#2a3f5f"
            },
            "error_y": {
             "color": "#2a3f5f"
            },
            "marker": {
             "line": {
              "color": "#E5ECF6",
              "width": 0.5
             },
             "pattern": {
              "fillmode": "overlay",
              "size": 10,
              "solidity": 0.2
             }
            },
            "type": "bar"
           }
          ],
          "barpolar": [
           {
            "marker": {
             "line": {
              "color": "#E5ECF6",
              "width": 0.5
             },
             "pattern": {
              "fillmode": "overlay",
              "size": 10,
              "solidity": 0.2
             }
            },
            "type": "barpolar"
           }
          ],
          "carpet": [
           {
            "aaxis": {
             "endlinecolor": "#2a3f5f",
             "gridcolor": "white",
             "linecolor": "white",
             "minorgridcolor": "white",
             "startlinecolor": "#2a3f5f"
            },
            "baxis": {
             "endlinecolor": "#2a3f5f",
             "gridcolor": "white",
             "linecolor": "white",
             "minorgridcolor": "white",
             "startlinecolor": "#2a3f5f"
            },
            "type": "carpet"
           }
          ],
          "choropleth": [
           {
            "colorbar": {
             "outlinewidth": 0,
             "ticks": ""
            },
            "type": "choropleth"
           }
          ],
          "contour": [
           {
            "colorbar": {
             "outlinewidth": 0,
             "ticks": ""
            },
            "colorscale": [
             [
              0,
              "#0d0887"
             ],
             [
              0.1111111111111111,
              "#46039f"
             ],
             [
              0.2222222222222222,
              "#7201a8"
             ],
             [
              0.3333333333333333,
              "#9c179e"
             ],
             [
              0.4444444444444444,
              "#bd3786"
             ],
             [
              0.5555555555555556,
              "#d8576b"
             ],
             [
              0.6666666666666666,
              "#ed7953"
             ],
             [
              0.7777777777777778,
              "#fb9f3a"
             ],
             [
              0.8888888888888888,
              "#fdca26"
             ],
             [
              1,
              "#f0f921"
             ]
            ],
            "type": "contour"
           }
          ],
          "contourcarpet": [
           {
            "colorbar": {
             "outlinewidth": 0,
             "ticks": ""
            },
            "type": "contourcarpet"
           }
          ],
          "heatmap": [
           {
            "colorbar": {
             "outlinewidth": 0,
             "ticks": ""
            },
            "colorscale": [
             [
              0,
              "#0d0887"
             ],
             [
              0.1111111111111111,
              "#46039f"
             ],
             [
              0.2222222222222222,
              "#7201a8"
             ],
             [
              0.3333333333333333,
              "#9c179e"
             ],
             [
              0.4444444444444444,
              "#bd3786"
             ],
             [
              0.5555555555555556,
              "#d8576b"
             ],
             [
              0.6666666666666666,
              "#ed7953"
             ],
             [
              0.7777777777777778,
              "#fb9f3a"
             ],
             [
              0.8888888888888888,
              "#fdca26"
             ],
             [
              1,
              "#f0f921"
             ]
            ],
            "type": "heatmap"
           }
          ],
          "histogram": [
           {
            "marker": {
             "pattern": {
              "fillmode": "overlay",
              "size": 10,
              "solidity": 0.2
             }
            },
            "type": "histogram"
           }
          ],
          "histogram2d": [
           {
            "colorbar": {
             "outlinewidth": 0,
             "ticks": ""
            },
            "colorscale": [
             [
              0,
              "#0d0887"
             ],
             [
              0.1111111111111111,
              "#46039f"
             ],
             [
              0.2222222222222222,
              "#7201a8"
             ],
             [
              0.3333333333333333,
              "#9c179e"
             ],
             [
              0.4444444444444444,
              "#bd3786"
             ],
             [
              0.5555555555555556,
              "#d8576b"
             ],
             [
              0.6666666666666666,
              "#ed7953"
             ],
             [
              0.7777777777777778,
              "#fb9f3a"
             ],
             [
              0.8888888888888888,
              "#fdca26"
             ],
             [
              1,
              "#f0f921"
             ]
            ],
            "type": "histogram2d"
           }
          ],
          "histogram2dcontour": [
           {
            "colorbar": {
             "outlinewidth": 0,
             "ticks": ""
            },
            "colorscale": [
             [
              0,
              "#0d0887"
             ],
             [
              0.1111111111111111,
              "#46039f"
             ],
             [
              0.2222222222222222,
              "#7201a8"
             ],
             [
              0.3333333333333333,
              "#9c179e"
             ],
             [
              0.4444444444444444,
              "#bd3786"
             ],
             [
              0.5555555555555556,
              "#d8576b"
             ],
             [
              0.6666666666666666,
              "#ed7953"
             ],
             [
              0.7777777777777778,
              "#fb9f3a"
             ],
             [
              0.8888888888888888,
              "#fdca26"
             ],
             [
              1,
              "#f0f921"
             ]
            ],
            "type": "histogram2dcontour"
           }
          ],
          "mesh3d": [
           {
            "colorbar": {
             "outlinewidth": 0,
             "ticks": ""
            },
            "type": "mesh3d"
           }
          ],
          "parcoords": [
           {
            "line": {
             "colorbar": {
              "outlinewidth": 0,
              "ticks": ""
             }
            },
            "type": "parcoords"
           }
          ],
          "pie": [
           {
            "automargin": true,
            "type": "pie"
           }
          ],
          "scatter": [
           {
            "fillpattern": {
             "fillmode": "overlay",
             "size": 10,
             "solidity": 0.2
            },
            "type": "scatter"
           }
          ],
          "scatter3d": [
           {
            "line": {
             "colorbar": {
              "outlinewidth": 0,
              "ticks": ""
             }
            },
            "marker": {
             "colorbar": {
              "outlinewidth": 0,
              "ticks": ""
             }
            },
            "type": "scatter3d"
           }
          ],
          "scattercarpet": [
           {
            "marker": {
             "colorbar": {
              "outlinewidth": 0,
              "ticks": ""
             }
            },
            "type": "scattercarpet"
           }
          ],
          "scattergeo": [
           {
            "marker": {
             "colorbar": {
              "outlinewidth": 0,
              "ticks": ""
             }
            },
            "type": "scattergeo"
           }
          ],
          "scattergl": [
           {
            "marker": {
             "colorbar": {
              "outlinewidth": 0,
              "ticks": ""
             }
            },
            "type": "scattergl"
           }
          ],
          "scattermap": [
           {
            "marker": {
             "colorbar": {
              "outlinewidth": 0,
              "ticks": ""
             }
            },
            "type": "scattermap"
           }
          ],
          "scattermapbox": [
           {
            "marker": {
             "colorbar": {
              "outlinewidth": 0,
              "ticks": ""
             }
            },
            "type": "scattermapbox"
           }
          ],
          "scatterpolar": [
           {
            "marker": {
             "colorbar": {
              "outlinewidth": 0,
              "ticks": ""
             }
            },
            "type": "scatterpolar"
           }
          ],
          "scatterpolargl": [
           {
            "marker": {
             "colorbar": {
              "outlinewidth": 0,
              "ticks": ""
             }
            },
            "type": "scatterpolargl"
           }
          ],
          "scatterternary": [
           {
            "marker": {
             "colorbar": {
              "outlinewidth": 0,
              "ticks": ""
             }
            },
            "type": "scatterternary"
           }
          ],
          "surface": [
           {
            "colorbar": {
             "outlinewidth": 0,
             "ticks": ""
            },
            "colorscale": [
             [
              0,
              "#0d0887"
             ],
             [
              0.1111111111111111,
              "#46039f"
             ],
             [
              0.2222222222222222,
              "#7201a8"
             ],
             [
              0.3333333333333333,
              "#9c179e"
             ],
             [
              0.4444444444444444,
              "#bd3786"
             ],
             [
              0.5555555555555556,
              "#d8576b"
             ],
             [
              0.6666666666666666,
              "#ed7953"
             ],
             [
              0.7777777777777778,
              "#fb9f3a"
             ],
             [
              0.8888888888888888,
              "#fdca26"
             ],
             [
              1,
              "#f0f921"
             ]
            ],
            "type": "surface"
           }
          ],
          "table": [
           {
            "cells": {
             "fill": {
              "color": "#EBF0F8"
             },
             "line": {
              "color": "white"
             }
            },
            "header": {
             "fill": {
              "color": "#C8D4E3"
             },
             "line": {
              "color": "white"
             }
            },
            "type": "table"
           }
          ]
         },
         "layout": {
          "annotationdefaults": {
           "arrowcolor": "#2a3f5f",
           "arrowhead": 0,
           "arrowwidth": 1
          },
          "autotypenumbers": "strict",
          "coloraxis": {
           "colorbar": {
            "outlinewidth": 0,
            "ticks": ""
           }
          },
          "colorscale": {
           "diverging": [
            [
             0,
             "#8e0152"
            ],
            [
             0.1,
             "#c51b7d"
            ],
            [
             0.2,
             "#de77ae"
            ],
            [
             0.3,
             "#f1b6da"
            ],
            [
             0.4,
             "#fde0ef"
            ],
            [
             0.5,
             "#f7f7f7"
            ],
            [
             0.6,
             "#e6f5d0"
            ],
            [
             0.7,
             "#b8e186"
            ],
            [
             0.8,
             "#7fbc41"
            ],
            [
             0.9,
             "#4d9221"
            ],
            [
             1,
             "#276419"
            ]
           ],
           "sequential": [
            [
             0,
             "#0d0887"
            ],
            [
             0.1111111111111111,
             "#46039f"
            ],
            [
             0.2222222222222222,
             "#7201a8"
            ],
            [
             0.3333333333333333,
             "#9c179e"
            ],
            [
             0.4444444444444444,
             "#bd3786"
            ],
            [
             0.5555555555555556,
             "#d8576b"
            ],
            [
             0.6666666666666666,
             "#ed7953"
            ],
            [
             0.7777777777777778,
             "#fb9f3a"
            ],
            [
             0.8888888888888888,
             "#fdca26"
            ],
            [
             1,
             "#f0f921"
            ]
           ],
           "sequentialminus": [
            [
             0,
             "#0d0887"
            ],
            [
             0.1111111111111111,
             "#46039f"
            ],
            [
             0.2222222222222222,
             "#7201a8"
            ],
            [
             0.3333333333333333,
             "#9c179e"
            ],
            [
             0.4444444444444444,
             "#bd3786"
            ],
            [
             0.5555555555555556,
             "#d8576b"
            ],
            [
             0.6666666666666666,
             "#ed7953"
            ],
            [
             0.7777777777777778,
             "#fb9f3a"
            ],
            [
             0.8888888888888888,
             "#fdca26"
            ],
            [
             1,
             "#f0f921"
            ]
           ]
          },
          "colorway": [
           "#636efa",
           "#EF553B",
           "#00cc96",
           "#ab63fa",
           "#FFA15A",
           "#19d3f3",
           "#FF6692",
           "#B6E880",
           "#FF97FF",
           "#FECB52"
          ],
          "font": {
           "color": "#2a3f5f"
          },
          "geo": {
           "bgcolor": "white",
           "lakecolor": "white",
           "landcolor": "#E5ECF6",
           "showlakes": true,
           "showland": true,
           "subunitcolor": "white"
          },
          "hoverlabel": {
           "align": "left"
          },
          "hovermode": "closest",
          "mapbox": {
           "style": "light"
          },
          "paper_bgcolor": "white",
          "plot_bgcolor": "#E5ECF6",
          "polar": {
           "angularaxis": {
            "gridcolor": "white",
            "linecolor": "white",
            "ticks": ""
           },
           "bgcolor": "#E5ECF6",
           "radialaxis": {
            "gridcolor": "white",
            "linecolor": "white",
            "ticks": ""
           }
          },
          "scene": {
           "xaxis": {
            "backgroundcolor": "#E5ECF6",
            "gridcolor": "white",
            "gridwidth": 2,
            "linecolor": "white",
            "showbackground": true,
            "ticks": "",
            "zerolinecolor": "white"
           },
           "yaxis": {
            "backgroundcolor": "#E5ECF6",
            "gridcolor": "white",
            "gridwidth": 2,
            "linecolor": "white",
            "showbackground": true,
            "ticks": "",
            "zerolinecolor": "white"
           },
           "zaxis": {
            "backgroundcolor": "#E5ECF6",
            "gridcolor": "white",
            "gridwidth": 2,
            "linecolor": "white",
            "showbackground": true,
            "ticks": "",
            "zerolinecolor": "white"
           }
          },
          "shapedefaults": {
           "line": {
            "color": "#2a3f5f"
           }
          },
          "ternary": {
           "aaxis": {
            "gridcolor": "white",
            "linecolor": "white",
            "ticks": ""
           },
           "baxis": {
            "gridcolor": "white",
            "linecolor": "white",
            "ticks": ""
           },
           "bgcolor": "#E5ECF6",
           "caxis": {
            "gridcolor": "white",
            "linecolor": "white",
            "ticks": ""
           }
          },
          "title": {
           "x": 0.05
          },
          "xaxis": {
           "automargin": true,
           "gridcolor": "white",
           "linecolor": "white",
           "ticks": "",
           "title": {
            "standoff": 15
           },
           "zerolinecolor": "white",
           "zerolinewidth": 2
          },
          "yaxis": {
           "automargin": true,
           "gridcolor": "white",
           "linecolor": "white",
           "ticks": "",
           "title": {
            "standoff": 15
           },
           "zerolinecolor": "white",
           "zerolinewidth": 2
          }
         }
        },
        "title": {
         "text": "Comparação Interativa de Tempo de Execução (log-log)"
        },
        "xaxis": {
         "anchor": "y",
         "domain": [
          0,
          1
         ],
         "title": {
          "text": "Tamanho (N)"
         },
         "type": "log"
        },
        "yaxis": {
         "anchor": "x",
         "domain": [
          0,
          1
         ],
         "title": {
          "text": "Tempo Médio (s)"
         },
         "type": "log"
        }
       }
      }
     },
     "metadata": {},
     "output_type": "display_data"
    }
   ],
   "source": [
    "# Geração de Gráfico Interativo (Tempo) com Plotly\n",
    "import plotly.express as px\n",
    "\n",
    "# 1. Remodelar os dados (de \"largo\" para \"longo\")\n",
    "# O Plotly Express prefere os dados em um formato \"longo\" (tidy data)\n",
    "df_plot_data = []\n",
    "for size, row in df_results.iterrows():\n",
    "    for alg in ['classic', 'heap', 'nx']:\n",
    "        if pd.notna(row[f'{alg}_time_mean']): # Só adiciona se não for NaN\n",
    "            df_plot_data.append({\n",
    "                'Tamanho (N)': size,\n",
    "                'Algoritmo': alg.capitalize(),\n",
    "                'Tempo Médio (s)': row[f'{alg}_time_mean'],\n",
    "                'Desvio Padrão (s)': row[f'{alg}_time_std']\n",
    "            })\n",
    "df_long_time = pd.DataFrame(df_plot_data)\n",
    "\n",
    "# 2. Criar o gráfico interativo\n",
    "fig_time = px.line(\n",
    "    df_long_time,\n",
    "    x='Tamanho (N)',\n",
    "    y='Tempo Médio (s)',\n",
    "    color='Algoritmo',           # Cria uma linha por algoritmo\n",
    "    error_y='Desvio Padrão (s)', # Adiciona as barras de erro (métrica 's' do desafio)\n",
    "    log_x=True,                  # Eixo X em escala log\n",
    "    log_y=True,                  # Eixo Y em escala log\n",
    "    markers=True,                # Adiciona pontos nas medições (para facilitar o hover)\n",
    "    title='Comparação Interativa de Tempo de Execução (log-log)',\n",
    "    \n",
    "    # Define quais dados aparecem no hover (tooltip)\n",
    "    # Por padrão, já mostra X, Y e Cor. Aqui adicionamos o Desvio Padrão.\n",
    "    hover_data=['Desvio Padrão (s)'] \n",
    ")\n",
    "\n",
    "fig_time.update_layout(hovermode=\"x unified\") # Opcional: Mostra o hover para todos os algs no mesmo X\n",
    "\n",
    "# 3. Salvar como HTML e exibir\n",
    "# Isso cria o arquivo interativo que você pode colocar no seu repositório\n",
    "fig_time.write_html('graficos/comparacao_tempo_interativo.html')\n",
    "fig_time.show()"
   ]
  },
  {
   "cell_type": "markdown",
   "id": "bebabf86",
   "metadata": {},
   "source": [
    "# Geração de Gráficos e Análise (CO₂)"
   ]
  },
  {
   "cell_type": "code",
   "execution_count": 22,
   "id": "f4eb75ca",
   "metadata": {},
   "outputs": [
    {
     "data": {
      "application/vnd.plotly.v1+json": {
       "config": {
        "plotlyServerURL": "https://plot.ly"
       },
       "data": [
        {
         "customdata": {
          "bdata": "1gLAcX6bFD5qIdgLt2IOPr4+HsmrRjY+NFfMTnimYD5gjZH+B8ulPptejWXvWfA+",
          "dtype": "f8",
          "shape": "6, 1"
         },
         "error_y": {
          "array": {
           "bdata": "1gLAcX6bFD5qIdgLt2IOPr4+HsmrRjY+NFfMTnimYD5gjZH+B8ulPptejWXvWfA+",
           "dtype": "f8"
          }
         },
         "hovertemplate": "Algoritmo=Classic<br>Tamanho (N)=%{x}<br>CO₂ Médio (kg)=%{y}<br>Desvio Padrão (CO₂)=%{customdata[0]}<extra></extra>",
         "legendgroup": "Classic",
         "line": {
          "color": "#636efa",
          "dash": "solid"
         },
         "marker": {
          "symbol": "circle"
         },
         "mode": "lines+markers",
         "name": "Classic",
         "orientation": "v",
         "showlegend": true,
         "type": "scatter",
         "x": {
          "bdata": "ZAAAAPQBAADoAwAAiBMAABAnAABQwwAA",
          "dtype": "i4"
         },
         "xaxis": "x",
         "y": {
          "bdata": "MKRwCA3miT5txKUKBsKPPo4U2seJtpg+TYWNDbC70T5cPw4VqgnwPrFJ2SX6MTk/",
          "dtype": "f8"
         },
         "yaxis": "y"
        },
        {
         "customdata": {
          "bdata": "dbgHC19yaD4T1G721nFpPtPeUJTI3Ac+swRkNXTxcz6F1chpga17PinZr9E0coI+",
          "dtype": "f8",
          "shape": "6, 1"
         },
         "error_y": {
          "array": {
           "bdata": "dbgHC19yaD4T1G721nFpPtPeUJTI3Ac+swRkNXTxcz6F1chpga17PinZr9E0coI+",
           "dtype": "f8"
          }
         },
         "hovertemplate": "Algoritmo=Heap<br>Tamanho (N)=%{x}<br>CO₂ Médio (kg)=%{y}<br>Desvio Padrão (CO₂)=%{customdata[0]}<extra></extra>",
         "legendgroup": "Heap",
         "line": {
          "color": "#EF553B",
          "dash": "solid"
         },
         "marker": {
          "symbol": "circle"
         },
         "mode": "lines+markers",
         "name": "Heap",
         "orientation": "v",
         "showlegend": true,
         "type": "scatter",
         "x": {
          "bdata": "ZAAAAPQBAADoAwAAiBMAABAnAABQwwAA",
          "dtype": "i4"
         },
         "xaxis": "x",
         "y": {
          "bdata": "dkDietXjhz5fGWUHgtyIPpB7UrRc+Ys+wfqj3hhFkz5Eq/3nmKqaPqt4yLQqb8A+",
          "dtype": "f8"
         },
         "yaxis": "y"
        },
        {
         "customdata": {
          "bdata": "hENhTR6nBT7r8Z9eON0EPkwHUJGuoWo+rf8uxRIKcT6d+aux1vd2PpUgUhlTyJ0+",
          "dtype": "f8",
          "shape": "6, 1"
         },
         "error_y": {
          "array": {
           "bdata": "hENhTR6nBT7r8Z9eON0EPkwHUJGuoWo+rf8uxRIKcT6d+aux1vd2PpUgUhlTyJ0+",
           "dtype": "f8"
          }
         },
         "hovertemplate": "Algoritmo=Nx<br>Tamanho (N)=%{x}<br>CO₂ Médio (kg)=%{y}<br>Desvio Padrão (CO₂)=%{customdata[0]}<extra></extra>",
         "legendgroup": "Nx",
         "line": {
          "color": "#00cc96",
          "dash": "solid"
         },
         "marker": {
          "symbol": "circle"
         },
         "mode": "lines+markers",
         "name": "Nx",
         "orientation": "v",
         "showlegend": true,
         "type": "scatter",
         "x": {
          "bdata": "ZAAAAPQBAADoAwAAiBMAABAnAABQwwAA",
          "dtype": "i4"
         },
         "xaxis": "x",
         "y": {
          "bdata": "QC5uRR8yiT63zGkAvhKKPiuRfddgk4k+anXOeq2mkD4c/lIW+DyWPj763+UnF7w+",
          "dtype": "f8"
         },
         "yaxis": "y"
        }
       ],
       "layout": {
        "hovermode": "x unified",
        "legend": {
         "title": {
          "text": "Algoritmo"
         },
         "tracegroupgap": 0
        },
        "template": {
         "data": {
          "bar": [
           {
            "error_x": {
             "color": "#2a3f5f"
            },
            "error_y": {
             "color": "#2a3f5f"
            },
            "marker": {
             "line": {
              "color": "#E5ECF6",
              "width": 0.5
             },
             "pattern": {
              "fillmode": "overlay",
              "size": 10,
              "solidity": 0.2
             }
            },
            "type": "bar"
           }
          ],
          "barpolar": [
           {
            "marker": {
             "line": {
              "color": "#E5ECF6",
              "width": 0.5
             },
             "pattern": {
              "fillmode": "overlay",
              "size": 10,
              "solidity": 0.2
             }
            },
            "type": "barpolar"
           }
          ],
          "carpet": [
           {
            "aaxis": {
             "endlinecolor": "#2a3f5f",
             "gridcolor": "white",
             "linecolor": "white",
             "minorgridcolor": "white",
             "startlinecolor": "#2a3f5f"
            },
            "baxis": {
             "endlinecolor": "#2a3f5f",
             "gridcolor": "white",
             "linecolor": "white",
             "minorgridcolor": "white",
             "startlinecolor": "#2a3f5f"
            },
            "type": "carpet"
           }
          ],
          "choropleth": [
           {
            "colorbar": {
             "outlinewidth": 0,
             "ticks": ""
            },
            "type": "choropleth"
           }
          ],
          "contour": [
           {
            "colorbar": {
             "outlinewidth": 0,
             "ticks": ""
            },
            "colorscale": [
             [
              0,
              "#0d0887"
             ],
             [
              0.1111111111111111,
              "#46039f"
             ],
             [
              0.2222222222222222,
              "#7201a8"
             ],
             [
              0.3333333333333333,
              "#9c179e"
             ],
             [
              0.4444444444444444,
              "#bd3786"
             ],
             [
              0.5555555555555556,
              "#d8576b"
             ],
             [
              0.6666666666666666,
              "#ed7953"
             ],
             [
              0.7777777777777778,
              "#fb9f3a"
             ],
             [
              0.8888888888888888,
              "#fdca26"
             ],
             [
              1,
              "#f0f921"
             ]
            ],
            "type": "contour"
           }
          ],
          "contourcarpet": [
           {
            "colorbar": {
             "outlinewidth": 0,
             "ticks": ""
            },
            "type": "contourcarpet"
           }
          ],
          "heatmap": [
           {
            "colorbar": {
             "outlinewidth": 0,
             "ticks": ""
            },
            "colorscale": [
             [
              0,
              "#0d0887"
             ],
             [
              0.1111111111111111,
              "#46039f"
             ],
             [
              0.2222222222222222,
              "#7201a8"
             ],
             [
              0.3333333333333333,
              "#9c179e"
             ],
             [
              0.4444444444444444,
              "#bd3786"
             ],
             [
              0.5555555555555556,
              "#d8576b"
             ],
             [
              0.6666666666666666,
              "#ed7953"
             ],
             [
              0.7777777777777778,
              "#fb9f3a"
             ],
             [
              0.8888888888888888,
              "#fdca26"
             ],
             [
              1,
              "#f0f921"
             ]
            ],
            "type": "heatmap"
           }
          ],
          "histogram": [
           {
            "marker": {
             "pattern": {
              "fillmode": "overlay",
              "size": 10,
              "solidity": 0.2
             }
            },
            "type": "histogram"
           }
          ],
          "histogram2d": [
           {
            "colorbar": {
             "outlinewidth": 0,
             "ticks": ""
            },
            "colorscale": [
             [
              0,
              "#0d0887"
             ],
             [
              0.1111111111111111,
              "#46039f"
             ],
             [
              0.2222222222222222,
              "#7201a8"
             ],
             [
              0.3333333333333333,
              "#9c179e"
             ],
             [
              0.4444444444444444,
              "#bd3786"
             ],
             [
              0.5555555555555556,
              "#d8576b"
             ],
             [
              0.6666666666666666,
              "#ed7953"
             ],
             [
              0.7777777777777778,
              "#fb9f3a"
             ],
             [
              0.8888888888888888,
              "#fdca26"
             ],
             [
              1,
              "#f0f921"
             ]
            ],
            "type": "histogram2d"
           }
          ],
          "histogram2dcontour": [
           {
            "colorbar": {
             "outlinewidth": 0,
             "ticks": ""
            },
            "colorscale": [
             [
              0,
              "#0d0887"
             ],
             [
              0.1111111111111111,
              "#46039f"
             ],
             [
              0.2222222222222222,
              "#7201a8"
             ],
             [
              0.3333333333333333,
              "#9c179e"
             ],
             [
              0.4444444444444444,
              "#bd3786"
             ],
             [
              0.5555555555555556,
              "#d8576b"
             ],
             [
              0.6666666666666666,
              "#ed7953"
             ],
             [
              0.7777777777777778,
              "#fb9f3a"
             ],
             [
              0.8888888888888888,
              "#fdca26"
             ],
             [
              1,
              "#f0f921"
             ]
            ],
            "type": "histogram2dcontour"
           }
          ],
          "mesh3d": [
           {
            "colorbar": {
             "outlinewidth": 0,
             "ticks": ""
            },
            "type": "mesh3d"
           }
          ],
          "parcoords": [
           {
            "line": {
             "colorbar": {
              "outlinewidth": 0,
              "ticks": ""
             }
            },
            "type": "parcoords"
           }
          ],
          "pie": [
           {
            "automargin": true,
            "type": "pie"
           }
          ],
          "scatter": [
           {
            "fillpattern": {
             "fillmode": "overlay",
             "size": 10,
             "solidity": 0.2
            },
            "type": "scatter"
           }
          ],
          "scatter3d": [
           {
            "line": {
             "colorbar": {
              "outlinewidth": 0,
              "ticks": ""
             }
            },
            "marker": {
             "colorbar": {
              "outlinewidth": 0,
              "ticks": ""
             }
            },
            "type": "scatter3d"
           }
          ],
          "scattercarpet": [
           {
            "marker": {
             "colorbar": {
              "outlinewidth": 0,
              "ticks": ""
             }
            },
            "type": "scattercarpet"
           }
          ],
          "scattergeo": [
           {
            "marker": {
             "colorbar": {
              "outlinewidth": 0,
              "ticks": ""
             }
            },
            "type": "scattergeo"
           }
          ],
          "scattergl": [
           {
            "marker": {
             "colorbar": {
              "outlinewidth": 0,
              "ticks": ""
             }
            },
            "type": "scattergl"
           }
          ],
          "scattermap": [
           {
            "marker": {
             "colorbar": {
              "outlinewidth": 0,
              "ticks": ""
             }
            },
            "type": "scattermap"
           }
          ],
          "scattermapbox": [
           {
            "marker": {
             "colorbar": {
              "outlinewidth": 0,
              "ticks": ""
             }
            },
            "type": "scattermapbox"
           }
          ],
          "scatterpolar": [
           {
            "marker": {
             "colorbar": {
              "outlinewidth": 0,
              "ticks": ""
             }
            },
            "type": "scatterpolar"
           }
          ],
          "scatterpolargl": [
           {
            "marker": {
             "colorbar": {
              "outlinewidth": 0,
              "ticks": ""
             }
            },
            "type": "scatterpolargl"
           }
          ],
          "scatterternary": [
           {
            "marker": {
             "colorbar": {
              "outlinewidth": 0,
              "ticks": ""
             }
            },
            "type": "scatterternary"
           }
          ],
          "surface": [
           {
            "colorbar": {
             "outlinewidth": 0,
             "ticks": ""
            },
            "colorscale": [
             [
              0,
              "#0d0887"
             ],
             [
              0.1111111111111111,
              "#46039f"
             ],
             [
              0.2222222222222222,
              "#7201a8"
             ],
             [
              0.3333333333333333,
              "#9c179e"
             ],
             [
              0.4444444444444444,
              "#bd3786"
             ],
             [
              0.5555555555555556,
              "#d8576b"
             ],
             [
              0.6666666666666666,
              "#ed7953"
             ],
             [
              0.7777777777777778,
              "#fb9f3a"
             ],
             [
              0.8888888888888888,
              "#fdca26"
             ],
             [
              1,
              "#f0f921"
             ]
            ],
            "type": "surface"
           }
          ],
          "table": [
           {
            "cells": {
             "fill": {
              "color": "#EBF0F8"
             },
             "line": {
              "color": "white"
             }
            },
            "header": {
             "fill": {
              "color": "#C8D4E3"
             },
             "line": {
              "color": "white"
             }
            },
            "type": "table"
           }
          ]
         },
         "layout": {
          "annotationdefaults": {
           "arrowcolor": "#2a3f5f",
           "arrowhead": 0,
           "arrowwidth": 1
          },
          "autotypenumbers": "strict",
          "coloraxis": {
           "colorbar": {
            "outlinewidth": 0,
            "ticks": ""
           }
          },
          "colorscale": {
           "diverging": [
            [
             0,
             "#8e0152"
            ],
            [
             0.1,
             "#c51b7d"
            ],
            [
             0.2,
             "#de77ae"
            ],
            [
             0.3,
             "#f1b6da"
            ],
            [
             0.4,
             "#fde0ef"
            ],
            [
             0.5,
             "#f7f7f7"
            ],
            [
             0.6,
             "#e6f5d0"
            ],
            [
             0.7,
             "#b8e186"
            ],
            [
             0.8,
             "#7fbc41"
            ],
            [
             0.9,
             "#4d9221"
            ],
            [
             1,
             "#276419"
            ]
           ],
           "sequential": [
            [
             0,
             "#0d0887"
            ],
            [
             0.1111111111111111,
             "#46039f"
            ],
            [
             0.2222222222222222,
             "#7201a8"
            ],
            [
             0.3333333333333333,
             "#9c179e"
            ],
            [
             0.4444444444444444,
             "#bd3786"
            ],
            [
             0.5555555555555556,
             "#d8576b"
            ],
            [
             0.6666666666666666,
             "#ed7953"
            ],
            [
             0.7777777777777778,
             "#fb9f3a"
            ],
            [
             0.8888888888888888,
             "#fdca26"
            ],
            [
             1,
             "#f0f921"
            ]
           ],
           "sequentialminus": [
            [
             0,
             "#0d0887"
            ],
            [
             0.1111111111111111,
             "#46039f"
            ],
            [
             0.2222222222222222,
             "#7201a8"
            ],
            [
             0.3333333333333333,
             "#9c179e"
            ],
            [
             0.4444444444444444,
             "#bd3786"
            ],
            [
             0.5555555555555556,
             "#d8576b"
            ],
            [
             0.6666666666666666,
             "#ed7953"
            ],
            [
             0.7777777777777778,
             "#fb9f3a"
            ],
            [
             0.8888888888888888,
             "#fdca26"
            ],
            [
             1,
             "#f0f921"
            ]
           ]
          },
          "colorway": [
           "#636efa",
           "#EF553B",
           "#00cc96",
           "#ab63fa",
           "#FFA15A",
           "#19d3f3",
           "#FF6692",
           "#B6E880",
           "#FF97FF",
           "#FECB52"
          ],
          "font": {
           "color": "#2a3f5f"
          },
          "geo": {
           "bgcolor": "white",
           "lakecolor": "white",
           "landcolor": "#E5ECF6",
           "showlakes": true,
           "showland": true,
           "subunitcolor": "white"
          },
          "hoverlabel": {
           "align": "left"
          },
          "hovermode": "closest",
          "mapbox": {
           "style": "light"
          },
          "paper_bgcolor": "white",
          "plot_bgcolor": "#E5ECF6",
          "polar": {
           "angularaxis": {
            "gridcolor": "white",
            "linecolor": "white",
            "ticks": ""
           },
           "bgcolor": "#E5ECF6",
           "radialaxis": {
            "gridcolor": "white",
            "linecolor": "white",
            "ticks": ""
           }
          },
          "scene": {
           "xaxis": {
            "backgroundcolor": "#E5ECF6",
            "gridcolor": "white",
            "gridwidth": 2,
            "linecolor": "white",
            "showbackground": true,
            "ticks": "",
            "zerolinecolor": "white"
           },
           "yaxis": {
            "backgroundcolor": "#E5ECF6",
            "gridcolor": "white",
            "gridwidth": 2,
            "linecolor": "white",
            "showbackground": true,
            "ticks": "",
            "zerolinecolor": "white"
           },
           "zaxis": {
            "backgroundcolor": "#E5ECF6",
            "gridcolor": "white",
            "gridwidth": 2,
            "linecolor": "white",
            "showbackground": true,
            "ticks": "",
            "zerolinecolor": "white"
           }
          },
          "shapedefaults": {
           "line": {
            "color": "#2a3f5f"
           }
          },
          "ternary": {
           "aaxis": {
            "gridcolor": "white",
            "linecolor": "white",
            "ticks": ""
           },
           "baxis": {
            "gridcolor": "white",
            "linecolor": "white",
            "ticks": ""
           },
           "bgcolor": "#E5ECF6",
           "caxis": {
            "gridcolor": "white",
            "linecolor": "white",
            "ticks": ""
           }
          },
          "title": {
           "x": 0.05
          },
          "xaxis": {
           "automargin": true,
           "gridcolor": "white",
           "linecolor": "white",
           "ticks": "",
           "title": {
            "standoff": 15
           },
           "zerolinecolor": "white",
           "zerolinewidth": 2
          },
          "yaxis": {
           "automargin": true,
           "gridcolor": "white",
           "linecolor": "white",
           "ticks": "",
           "title": {
            "standoff": 15
           },
           "zerolinecolor": "white",
           "zerolinewidth": 2
          }
         }
        },
        "title": {
         "text": "Comparação Interativa de Emissão de CO₂ (log-log)"
        },
        "xaxis": {
         "anchor": "y",
         "domain": [
          0,
          1
         ],
         "title": {
          "text": "Tamanho (N)"
         },
         "type": "log"
        },
        "yaxis": {
         "anchor": "x",
         "domain": [
          0,
          1
         ],
         "title": {
          "text": "CO₂ Médio (kg)"
         },
         "type": "log"
        }
       }
      }
     },
     "metadata": {},
     "output_type": "display_data"
    }
   ],
   "source": [
    "# Geração de Gráfico Interativo (CO₂) com Plotly\n",
    "\n",
    "# 1. Remodelar os dados de CO₂\n",
    "df_plot_data_co2 = []\n",
    "for size, row in df_results.iterrows():\n",
    "    for alg in ['classic', 'heap', 'nx']:\n",
    "        if pd.notna(row[f'{alg}_co2_mean']):\n",
    "            df_plot_data_co2.append({\n",
    "                'Tamanho (N)': size,\n",
    "                'Algoritmo': alg.capitalize(),\n",
    "                'CO₂ Médio (kg)': row[f'{alg}_co2_mean'],\n",
    "                'Desvio Padrão (CO₂)': row[f'{alg}_co2_std']\n",
    "            })\n",
    "df_long_co2 = pd.DataFrame(df_plot_data_co2)\n",
    "\n",
    "# 2. Criar o gráfico interativo\n",
    "fig_co2 = px.line(\n",
    "    df_long_co2,\n",
    "    x='Tamanho (N)',\n",
    "    y='CO₂ Médio (kg)',\n",
    "    color='Algoritmo',\n",
    "    error_y='Desvio Padrão (CO₂)',\n",
    "    log_x=True,\n",
    "    log_y=True,\n",
    "    markers=True,\n",
    "    title='Comparação Interativa de Emissão de CO₂ (log-log)',\n",
    "    hover_data=['Desvio Padrão (CO₂)']\n",
    ")\n",
    "\n",
    "fig_co2.update_layout(hovermode=\"x unified\")\n",
    "\n",
    "# 3. Salvar como HTML e exibir\n",
    "fig_co2.write_html('graficos/comparacao_co2_interativo.html')\n",
    "fig_co2.show()"
   ]
  }
 ],
 "metadata": {
  "kernelspec": {
   "display_name": ".env",
   "language": "python",
   "name": "python3"
  },
  "language_info": {
   "codemirror_mode": {
    "name": "ipython",
    "version": 3
   },
   "file_extension": ".py",
   "mimetype": "text/x-python",
   "name": "python",
   "nbconvert_exporter": "python",
   "pygments_lexer": "ipython3",
   "version": "3.12.3"
  }
 },
 "nbformat": 4,
 "nbformat_minor": 5
}
